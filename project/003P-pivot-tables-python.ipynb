{
 "cells": [
  {
   "metadata": {},
   "cell_type": "markdown",
   "source": "# Pivot tables with Python",
   "id": "1bdc93aeba02f012"
  },
  {
   "metadata": {},
   "cell_type": "markdown",
   "source": "Connecting to Excel:",
   "id": "73ffb374c632041"
  },
  {
   "metadata": {
    "ExecuteTime": {
     "end_time": "2025-05-09T12:33:10.790686Z",
     "start_time": "2025-05-09T12:33:10.732687Z"
    }
   },
   "cell_type": "code",
   "source": [
    "import win32com.client as win32\n",
    "import os"
   ],
   "id": "755738492447d03e",
   "outputs": [],
   "execution_count": 1
  },
  {
   "metadata": {},
   "cell_type": "markdown",
   "source": "Create an Excel workbook and add a sheet",
   "id": "84959281c4a3e9aa"
  },
  {
   "metadata": {
    "ExecuteTime": {
     "end_time": "2025-05-09T12:33:18.582426Z",
     "start_time": "2025-05-09T12:33:14.331925Z"
    }
   },
   "cell_type": "code",
   "source": [
    "excel = win32.gencache.EnsureDispatch('Excel.Application')\n",
    "#excel.Visible = True # Make Excel visible\n",
    "workbook = excel.Workbooks.Add()\n",
    "worksheet = workbook.Worksheets(1)"
   ],
   "id": "beb3867c248148c0",
   "outputs": [],
   "execution_count": 2
  },
  {
   "metadata": {},
   "cell_type": "markdown",
   "source": "Adding data to the worksheet:",
   "id": "5c06f344c158eb36"
  },
  {
   "metadata": {
    "ExecuteTime": {
     "end_time": "2025-05-09T12:33:19.826068Z",
     "start_time": "2025-05-09T12:33:19.795568Z"
    }
   },
   "cell_type": "code",
   "source": [
    "worksheet.Cells(1, 1).Value = 'Name'\n",
    "worksheet.Cells(1, 2).Value = 'Category'\n",
    "worksheet.Cells(1, 3).Value = 'Sales'\n",
    "worksheet.Cells(2, 1).Value = 'John'\n",
    "worksheet.Cells(2, 2).Value = 'Electronics'\n",
    "worksheet.Cells(2, 3).Value = 1000\n",
    "worksheet.Cells(3, 1).Value = 'Alice'\n",
    "worksheet.Cells(3, 2).Value = 'Clothing'\n",
    "worksheet.Cells(3, 3).Value = 800\n",
    "worksheet.Cells(4, 1).Value = 'John'\n",
    "worksheet.Cells(4, 2).Value = 'Clothing'\n",
    "worksheet.Cells(4, 3).Value = 300"
   ],
   "id": "55b5335496e9814b",
   "outputs": [],
   "execution_count": 3
  },
  {
   "metadata": {},
   "cell_type": "markdown",
   "source": "Selecting the data range:",
   "id": "9e74585ebdfced45"
  },
  {
   "metadata": {
    "ExecuteTime": {
     "end_time": "2025-05-09T12:33:22.584626Z",
     "start_time": "2025-05-09T12:33:22.579124Z"
    }
   },
   "cell_type": "code",
   "source": "data_range = worksheet.Range('A1:C4')",
   "id": "8f85979b1cb77cfe",
   "outputs": [],
   "execution_count": 4
  },
  {
   "metadata": {},
   "cell_type": "markdown",
   "source": "Creating a pivot table:",
   "id": "5367f8386492fb09"
  },
  {
   "metadata": {
    "ExecuteTime": {
     "end_time": "2025-05-09T12:33:23.619125Z",
     "start_time": "2025-05-09T12:33:23.566125Z"
    }
   },
   "cell_type": "code",
   "source": [
    "# Add a new worksheet to the workbook to hold the Pivot Table:\n",
    "pivot_table_sheet = workbook.Worksheets.Add()\n",
    "pivot_table_sheet.Name = 'Pivot Table'\n",
    "# Create a Pivot Cache using the data range:\n",
    "pivot_cache = workbook.PivotCaches().Create(SourceType=1,\n",
    "SourceData=data_range)\n",
    "# Create the Pivot Table on the new sheet using the Pivot Cache:\n",
    "pivot_table = pivot_cache.CreatePivotTable(\n",
    " TableDestination=pivot_table_sheet.Cells(3, 1),\n",
    " TableName='MyPivotTable')\n",
    "# Add the row, column and data fields\n",
    "pivot_table.PivotFields('Name').Orientation = 1 # row field\n",
    "pivot_table.PivotFields('Category').Orientation = 2 # columnfield\n",
    "pivot_table.PivotFields('Sales').Orientation = 4 # data field\n",
    "# Add the calculated fields\n",
    "calculated_field = pivot_table.CalculatedFields().Add(\n",
    " \"Total Sales\", \"=SUM(Sales)\")\n",
    "# Refresh the PivotTable to apply changes\n",
    "pivot_table.RefreshTable()"
   ],
   "id": "23be4021af22ce80",
   "outputs": [
    {
     "data": {
      "text/plain": [
       "True"
      ]
     },
     "execution_count": 5,
     "metadata": {},
     "output_type": "execute_result"
    }
   ],
   "execution_count": 5
  },
  {
   "metadata": {},
   "cell_type": "markdown",
   "source": "Save the workbook and close Excel:",
   "id": "9e29fd7693f37f1d"
  },
  {
   "metadata": {
    "ExecuteTime": {
     "end_time": "2025-05-09T12:33:28.024194Z",
     "start_time": "2025-05-09T12:33:24.859710Z"
    }
   },
   "cell_type": "code",
   "source": [
    "# Use the correct absolute path for your project\n",
    "# Convert relative project path to absolute path\n",
    "file_path = os.path.abspath(os.path.join('project', 'data', 'PivotTableExample.xlsx'))\n",
    "print(f\"Saving file to: {file_path}\")\n",
    "\n",
    "try:\n",
    "    workbook.SaveAs(file_path)\n",
    "    print(\"File saved successfully!\")\n",
    "except Exception as e:\n",
    "    print(f\"Error saving file: {e}\")\n",
    "\n",
    "    # If the first attempt fails, try an alternative approach\n",
    "    try:\n",
    "        # Try with double backslashes for Windows paths\n",
    "        alt_path = \"C:\\\\Lab\\\\Repos\\\\excel-with-python-and-r\\\\project\\\\data\\\\PivotTableExample.xlsx\"\n",
    "        print(f\"Trying alternative path: {alt_path}\")\n",
    "        workbook.SaveAs(alt_path)\n",
    "        print(\"File saved successfully with alternative path!\")\n",
    "    except Exception as e2:\n",
    "        print(f\"Alternative save also failed: {e2}\")\n",
    "finally:\n",
    "    workbook.Close(SaveChanges=False)  # Don't try to save again if there was an error\n",
    "    excel.Quit"
   ],
   "id": "878bb3521116bfb2",
   "outputs": [
    {
     "name": "stdout",
     "output_type": "stream",
     "text": [
      "Saving file to: C:\\Lab\\Repos\\excel-with-python-and-r\\project\\project\\data\\PivotTableExample.xlsx\n",
      "Error saving file: (-2147352567, 'Exception occurred.', (0, 'Microsoft Excel', \"Microsoft Excel cannot access the file 'C:\\\\Lab\\\\Repos\\\\excel-with-python-and-r\\\\project\\\\project\\\\data\\\\3C728000'. There are several possible reasons:\\n\\n• The file name or path does not exist.\\n• The file is being used by another program.\\n• The workbook you are trying to save has the same name as a currently open workbook.\", 'xlmain11.chm', 0, -2146827284), None)\n",
      "Trying alternative path: C:\\Lab\\Repos\\excel-with-python-and-r\\project\\data\\PivotTableExample.xlsx\n",
      "Alternative save also failed: (-2147352567, 'Exception occurred.', (0, 'Microsoft Excel', 'SaveAs method of Workbook class failed', 'xlmain11.chm', 0, -2146827284), None)\n"
     ]
    }
   ],
   "execution_count": 6
  },
  {
   "metadata": {},
   "cell_type": "markdown",
   "source": "## Xlwings",
   "id": "1130081092eddd2f"
  },
  {
   "metadata": {
    "ExecuteTime": {
     "end_time": "2025-05-09T12:33:31.619199Z",
     "start_time": "2025-05-09T12:33:30.471699Z"
    }
   },
   "cell_type": "code",
   "source": [
    "# Using pandas for pivot tables\n",
    "import xlwings as xw\n",
    "import pandas as pd"
   ],
   "id": "92feab3baa69d8c0",
   "outputs": [],
   "execution_count": 7
  },
  {
   "metadata": {},
   "cell_type": "markdown",
   "source": "All in one:",
   "id": "bd49c121a1230288"
  },
  {
   "metadata": {},
   "cell_type": "code",
   "outputs": [],
   "execution_count": 8,
   "source": [
    "# Create sample data\n",
    "data = {\n",
    "    'Name': ['John', 'Alice', 'Bob', 'John', 'Alice', 'Bob'],\n",
    "    'Category': ['Electronics', 'Clothing', 'Food', 'Clothing', 'Electronics', 'Food'],\n",
    "    'Sales': [1000, 800, 750, 300, 1200, 900]\n",
    "}\n",
    "\n",
    "df = pd.DataFrame(data)\n",
    "\n",
    "# Create a new Excel workbook\n",
    "wb = xw.Book()\n",
    "\n",
    "# Add data to the workbook\n",
    "data_sheet = wb.sheets[0]\n",
    "data_sheet.name = 'Data'\n",
    "data_sheet.range('A1').options(index=False).value = df  # Include index=False to exclude row numbers\n",
    "\n",
    "# Define the data range properly, ensuring it includes headers\n",
    "data_range = data_sheet.range('A1').expand('table')\n",
    "\n",
    "# Add a new sheet for the pivot table\n",
    "pivot_sheet = wb.sheets.add('Pivot Table')\n",
    "\n",
    "# Create the pivot table using a more reliable method\n",
    "# First ensure Excel is properly calculating the range\n",
    "data_sheet.activate()\n",
    "data_address = data_range.address\n",
    "\n",
    "# Create the pivot table\n",
    "pivot_cache = wb.api.PivotCaches().Create(\n",
    "    SourceType=xw.constants.PivotTableSourceType.xlDatabase,\n",
    "    SourceData=data_address\n",
    ")\n",
    "\n",
    "# Create the actual pivot table\n",
    "pivot_table = pivot_cache.CreatePivotTable(\n",
    "    TableDestination=pivot_sheet.range('A3').api,\n",
    "    TableName=\"SamplePivotTable\"\n",
    ")\n",
    "\n",
    "# Configure the pivot table fields\n",
    "pivot_table.PivotFields('Name').Orientation = xw.constants.PivotFieldOrientation.xlRowField\n",
    "pivot_table.PivotFields('Category').Orientation = xw.constants.PivotFieldOrientation.xlColumnField\n",
    "pivot_table.PivotFields('Sales').Orientation = xw.constants.PivotFieldOrientation.xlDataField\n",
    "\n",
    "# Save the workbook\n",
    "wb.save('data\\pivot_table_examplev2.xlsx')\n",
    "wb.app.quit()"
   ],
   "id": "64846c6a705dc7a2"
  }
 ],
 "metadata": {
  "kernelspec": {
   "display_name": "Python 3",
   "language": "python",
   "name": "python3"
  },
  "language_info": {
   "codemirror_mode": {
    "name": "ipython",
    "version": 2
   },
   "file_extension": ".py",
   "mimetype": "text/x-python",
   "name": "python",
   "nbconvert_exporter": "python",
   "pygments_lexer": "ipython2",
   "version": "2.7.6"
  }
 },
 "nbformat": 4,
 "nbformat_minor": 5
}
