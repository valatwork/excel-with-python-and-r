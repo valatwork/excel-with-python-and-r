{
 "cells": [
  {
   "metadata": {
    "ExecuteTime": {
     "end_time": "2025-05-07T10:17:47.257581Z",
     "start_time": "2025-05-07T10:17:47.254082Z"
    }
   },
   "cell_type": "code",
   "source": [
    "import win32com.client as win32\n",
    "import os"
   ],
   "id": "cbce71f6000e3869",
   "outputs": [],
   "execution_count": 19
  },
  {
   "metadata": {
    "ExecuteTime": {
     "end_time": "2025-05-07T10:17:47.278582Z",
     "start_time": "2025-05-07T10:17:47.274081Z"
    }
   },
   "cell_type": "code",
   "source": "excel_app = win32.Dispatch(\"Excel.Application\")",
   "id": "initial_id",
   "outputs": [],
   "execution_count": 20
  },
  {
   "metadata": {
    "ExecuteTime": {
     "end_time": "2025-05-07T10:17:47.607083Z",
     "start_time": "2025-05-07T10:17:47.297581Z"
    }
   },
   "cell_type": "code",
   "source": [
    "path = os.getcwd().replace('\\'','\\\\') + '\\\\'\n",
    "workbook = excel_app.Workbooks.Open(path+\"data\\iris_data.xlsm\")\n",
    "excel_app.Run(\"examplePythonVBA\")\n",
    "workbook.Close(SaveChanges=True)\n",
    "excel_app.Quit()"
   ],
   "id": "21b4ffbfbaab94b5",
   "outputs": [],
   "execution_count": 21
  },
  {
   "metadata": {
    "ExecuteTime": {
     "end_time": "2025-05-07T10:17:47.901081Z",
     "start_time": "2025-05-07T10:17:47.626081Z"
    }
   },
   "cell_type": "code",
   "source": [
    "excel_app = win32.Dispatch(\"Excel.Application\")\n",
    "path = os.getcwd().replace('\\'','\\\\') + '\\\\'\n",
    "workbook = excel_app.Workbooks.Open(path+\"data\\iris_data.xlsm\")\n",
    "worksheet = workbook.Worksheets(\"Sheet1\")\n",
    "data = [[1, 2, 3], [4, 5, 6], [7, 8, 9]]\n",
    "for row_index, row_data in enumerate(data, start=1):\n",
    "    for col_index, value in enumerate(row_data, start=1):\n",
    "        worksheet.Cells(row_index, col_index).Value = value\n",
    "\n",
    "workbook.Close(SaveChanges=True)\n",
    "excel_app.Quit()"
   ],
   "id": "f5dac2bdcd0bbe0d",
   "outputs": [],
   "execution_count": 22
  },
  {
   "metadata": {
    "ExecuteTime": {
     "end_time": "2025-05-07T10:18:07.347013Z",
     "start_time": "2025-05-07T10:18:07.092014Z"
    }
   },
   "cell_type": "code",
   "source": [
    "excel_app = win32.Dispatch(\"Excel.Application\")\n",
    "path = os.getcwd().replace('\\'','\\\\') + '\\\\'\n",
    "workbook = excel_app.Workbooks.Open(path+\"data\\iris_data.xlsm\")\n",
    "worksheet = workbook.Worksheets(\"Sheet1\")\n",
    "\n",
    "# Access multiple cells using Range notation\n",
    "range_of_cells = worksheet.Range('A1:C3')\n",
    "# Read the values from the range of cells\n",
    "values = range_of_cells.Value\n",
    "workbook.Close(SaveChanges=False)\n",
    "excel_app.Quit()\n",
    "\n",
    "values"
   ],
   "id": "1057efc0f00985e9",
   "outputs": [
    {
     "data": {
      "text/plain": [
       "((1.0, 2.0, 3.0), (4.0, 5.0, 6.0), (7.0, 8.0, 9.0))"
      ]
     },
     "execution_count": 23,
     "metadata": {},
     "output_type": "execute_result"
    }
   ],
   "execution_count": 23
  }
 ],
 "metadata": {
  "kernelspec": {
   "display_name": "Python 3",
   "language": "python",
   "name": "python3"
  },
  "language_info": {
   "codemirror_mode": {
    "name": "ipython",
    "version": 2
   },
   "file_extension": ".py",
   "mimetype": "text/x-python",
   "name": "python",
   "nbconvert_exporter": "python",
   "pygments_lexer": "ipython2",
   "version": "2.7.6"
  }
 },
 "nbformat": 4,
 "nbformat_minor": 5
}
