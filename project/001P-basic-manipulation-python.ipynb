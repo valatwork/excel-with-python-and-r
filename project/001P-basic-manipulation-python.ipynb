{
 "cells": [
  {
   "metadata": {},
   "cell_type": "markdown",
   "source": "# Basic Excel Manipulation with Python",
   "id": "649c51098bd64744"
  },
  {
   "metadata": {
    "ExecuteTime": {
     "end_time": "2025-05-07T09:27:55.673787Z",
     "start_time": "2025-05-07T09:27:55.670786Z"
    }
   },
   "cell_type": "code",
   "source": "import pandas as pd",
   "id": "initial_id",
   "outputs": [],
   "execution_count": 20
  },
  {
   "metadata": {
    "ExecuteTime": {
     "end_time": "2025-05-07T09:27:55.716283Z",
     "start_time": "2025-05-07T09:27:55.696287Z"
    }
   },
   "cell_type": "code",
   "source": [
    "# Load the Excel file\n",
    "df = pd.read_excel(\"./data/iris_data.xlsx\", sheet_name='setosa')\n",
    "\n",
    "# Display the first few rows of the DataFrame\n",
    "df.head()"
   ],
   "id": "67323c642cfeca07",
   "outputs": [
    {
     "data": {
      "text/plain": [
       "   sepal_length  sepal_width  petal_length  petal_width species\n",
       "0           5.1          3.5           1.4          0.2  setosa\n",
       "1           4.9          3.0           1.4          0.2  setosa\n",
       "2           4.7          3.2           1.3          0.2  setosa\n",
       "3           4.6          3.1           1.5          0.2  setosa\n",
       "4           5.0          3.6           1.4          0.2  setosa"
      ],
      "text/html": [
       "<div>\n",
       "<style scoped>\n",
       "    .dataframe tbody tr th:only-of-type {\n",
       "        vertical-align: middle;\n",
       "    }\n",
       "\n",
       "    .dataframe tbody tr th {\n",
       "        vertical-align: top;\n",
       "    }\n",
       "\n",
       "    .dataframe thead th {\n",
       "        text-align: right;\n",
       "    }\n",
       "</style>\n",
       "<table border=\"1\" class=\"dataframe\">\n",
       "  <thead>\n",
       "    <tr style=\"text-align: right;\">\n",
       "      <th></th>\n",
       "      <th>sepal_length</th>\n",
       "      <th>sepal_width</th>\n",
       "      <th>petal_length</th>\n",
       "      <th>petal_width</th>\n",
       "      <th>species</th>\n",
       "    </tr>\n",
       "  </thead>\n",
       "  <tbody>\n",
       "    <tr>\n",
       "      <th>0</th>\n",
       "      <td>5.1</td>\n",
       "      <td>3.5</td>\n",
       "      <td>1.4</td>\n",
       "      <td>0.2</td>\n",
       "      <td>setosa</td>\n",
       "    </tr>\n",
       "    <tr>\n",
       "      <th>1</th>\n",
       "      <td>4.9</td>\n",
       "      <td>3.0</td>\n",
       "      <td>1.4</td>\n",
       "      <td>0.2</td>\n",
       "      <td>setosa</td>\n",
       "    </tr>\n",
       "    <tr>\n",
       "      <th>2</th>\n",
       "      <td>4.7</td>\n",
       "      <td>3.2</td>\n",
       "      <td>1.3</td>\n",
       "      <td>0.2</td>\n",
       "      <td>setosa</td>\n",
       "    </tr>\n",
       "    <tr>\n",
       "      <th>3</th>\n",
       "      <td>4.6</td>\n",
       "      <td>3.1</td>\n",
       "      <td>1.5</td>\n",
       "      <td>0.2</td>\n",
       "      <td>setosa</td>\n",
       "    </tr>\n",
       "    <tr>\n",
       "      <th>4</th>\n",
       "      <td>5.0</td>\n",
       "      <td>3.6</td>\n",
       "      <td>1.4</td>\n",
       "      <td>0.2</td>\n",
       "      <td>setosa</td>\n",
       "    </tr>\n",
       "  </tbody>\n",
       "</table>\n",
       "</div>"
      ]
     },
     "execution_count": 21,
     "metadata": {},
     "output_type": "execute_result"
    }
   ],
   "execution_count": 21
  },
  {
   "metadata": {
    "ExecuteTime": {
     "end_time": "2025-05-07T09:27:55.761286Z",
     "start_time": "2025-05-07T09:27:55.757787Z"
    }
   },
   "cell_type": "code",
   "source": "import openpyxl",
   "id": "8b39adf853f1ab9d",
   "outputs": [],
   "execution_count": 22
  },
  {
   "metadata": {
    "ExecuteTime": {
     "end_time": "2025-05-07T09:27:55.833784Z",
     "start_time": "2025-05-07T09:27:55.806287Z"
    }
   },
   "cell_type": "code",
   "source": [
    "# Load the Excel file\n",
    "wb = openpyxl.load_workbook(\"./data/iris_data.xlsx\")\n",
    "\n",
    "# Select the sheet\n",
    "sheet = wb['versicolor']\n",
    "\n",
    "# Extract the values (including headers)\n",
    "sheet_data_raw = sheet.values\n",
    "\n",
    "# Separate the headers into a variable\n",
    "headers = next(sheet_data_raw)[0:]\n",
    "\n",
    "# Create a DataFrame based on the second and subsequent lines of data with the header as column names\n",
    "sheet_data = pd.DataFrame(sheet_data_raw, columns=headers)\n",
    "\n",
    "sheet_data.head()"
   ],
   "id": "c6023b2e2cd4b762",
   "outputs": [
    {
     "data": {
      "text/plain": [
       "   sepal_length  sepal_width  petal_length  petal_width     species\n",
       "0           7.0          3.2           4.7          1.4  versicolor\n",
       "1           6.4          3.2           4.5          1.5  versicolor\n",
       "2           6.9          3.1           4.9          1.5  versicolor\n",
       "3           5.5          2.3           4.0          1.3  versicolor\n",
       "4           6.5          2.8           4.6          1.5  versicolor"
      ],
      "text/html": [
       "<div>\n",
       "<style scoped>\n",
       "    .dataframe tbody tr th:only-of-type {\n",
       "        vertical-align: middle;\n",
       "    }\n",
       "\n",
       "    .dataframe tbody tr th {\n",
       "        vertical-align: top;\n",
       "    }\n",
       "\n",
       "    .dataframe thead th {\n",
       "        text-align: right;\n",
       "    }\n",
       "</style>\n",
       "<table border=\"1\" class=\"dataframe\">\n",
       "  <thead>\n",
       "    <tr style=\"text-align: right;\">\n",
       "      <th></th>\n",
       "      <th>sepal_length</th>\n",
       "      <th>sepal_width</th>\n",
       "      <th>petal_length</th>\n",
       "      <th>petal_width</th>\n",
       "      <th>species</th>\n",
       "    </tr>\n",
       "  </thead>\n",
       "  <tbody>\n",
       "    <tr>\n",
       "      <th>0</th>\n",
       "      <td>7.0</td>\n",
       "      <td>3.2</td>\n",
       "      <td>4.7</td>\n",
       "      <td>1.4</td>\n",
       "      <td>versicolor</td>\n",
       "    </tr>\n",
       "    <tr>\n",
       "      <th>1</th>\n",
       "      <td>6.4</td>\n",
       "      <td>3.2</td>\n",
       "      <td>4.5</td>\n",
       "      <td>1.5</td>\n",
       "      <td>versicolor</td>\n",
       "    </tr>\n",
       "    <tr>\n",
       "      <th>2</th>\n",
       "      <td>6.9</td>\n",
       "      <td>3.1</td>\n",
       "      <td>4.9</td>\n",
       "      <td>1.5</td>\n",
       "      <td>versicolor</td>\n",
       "    </tr>\n",
       "    <tr>\n",
       "      <th>3</th>\n",
       "      <td>5.5</td>\n",
       "      <td>2.3</td>\n",
       "      <td>4.0</td>\n",
       "      <td>1.3</td>\n",
       "      <td>versicolor</td>\n",
       "    </tr>\n",
       "    <tr>\n",
       "      <th>4</th>\n",
       "      <td>6.5</td>\n",
       "      <td>2.8</td>\n",
       "      <td>4.6</td>\n",
       "      <td>1.5</td>\n",
       "      <td>versicolor</td>\n",
       "    </tr>\n",
       "  </tbody>\n",
       "</table>\n",
       "</div>"
      ]
     },
     "execution_count": 23,
     "metadata": {},
     "output_type": "execute_result"
    }
   ],
   "execution_count": 23
  },
  {
   "metadata": {},
   "cell_type": "markdown",
   "source": "#### Multiple Sheets",
   "id": "d21dc1253bd7d0d8"
  },
  {
   "metadata": {
    "ExecuteTime": {
     "end_time": "2025-05-07T09:27:55.944286Z",
     "start_time": "2025-05-07T09:27:55.915783Z"
    }
   },
   "cell_type": "code",
   "source": [
    "from openpyxl import load_workbook\n",
    "\n",
    "def read_single_sheet(workbook, sheet_name):\n",
    "    # Select the sheet\n",
    "    sheet = workbook[sheet_name]\n",
    "\n",
    "    # Extract the values (including headers)\n",
    "    sheet_data_raw = sheet.values\n",
    "\n",
    "    # Separate the headers into a variable\n",
    "    columns = next(sheet_data_raw)[0:]\n",
    "\n",
    "    # Create a DataFrame based on the second and subsequent lines of data with the header as column names\n",
    "    return pd.DataFrame(sheet_data_raw, columns=columns)\n",
    "\n",
    "def read_multiple_sheets(file_path):\n",
    "\n",
    "    # Load the Excel file\n",
    "    workbook = load_workbook(file_path, data_only=True)\n",
    "\n",
    "    # Get all sheet names\n",
    "    sheet_names = workbook.sheetnames\n",
    "\n",
    "    # Cycle through the sheet names, load the data for each, and concatenate them into a single DataFrame\n",
    "    return pd.concat([read_single_sheet(workbook=workbook, sheet_name=sheet_name) for sheet_name in sheet_names], ignore_index=True)\n",
    "\n",
    "# Define the file path and sheet names\n",
    "file_path = \"./data/iris_data.xlsx\"\n",
    "\n",
    "# Read the data from multiple sheets\n",
    "consolidated_data = read_multiple_sheets(file_path)\n",
    "\n",
    "# Display the consolidated data\n",
    "consolidated_data.head()"
   ],
   "id": "8c43702e3d7cae74",
   "outputs": [
    {
     "data": {
      "text/plain": [
       "   sepal_length  sepal_width  petal_length  petal_width species\n",
       "0           5.1          3.5           1.4          0.2  setosa\n",
       "1           4.9          3.0           1.4          0.2  setosa\n",
       "2           4.7          3.2           1.3          0.2  setosa\n",
       "3           4.6          3.1           1.5          0.2  setosa\n",
       "4           5.0          3.6           1.4          0.2  setosa"
      ],
      "text/html": [
       "<div>\n",
       "<style scoped>\n",
       "    .dataframe tbody tr th:only-of-type {\n",
       "        vertical-align: middle;\n",
       "    }\n",
       "\n",
       "    .dataframe tbody tr th {\n",
       "        vertical-align: top;\n",
       "    }\n",
       "\n",
       "    .dataframe thead th {\n",
       "        text-align: right;\n",
       "    }\n",
       "</style>\n",
       "<table border=\"1\" class=\"dataframe\">\n",
       "  <thead>\n",
       "    <tr style=\"text-align: right;\">\n",
       "      <th></th>\n",
       "      <th>sepal_length</th>\n",
       "      <th>sepal_width</th>\n",
       "      <th>petal_length</th>\n",
       "      <th>petal_width</th>\n",
       "      <th>species</th>\n",
       "    </tr>\n",
       "  </thead>\n",
       "  <tbody>\n",
       "    <tr>\n",
       "      <th>0</th>\n",
       "      <td>5.1</td>\n",
       "      <td>3.5</td>\n",
       "      <td>1.4</td>\n",
       "      <td>0.2</td>\n",
       "      <td>setosa</td>\n",
       "    </tr>\n",
       "    <tr>\n",
       "      <th>1</th>\n",
       "      <td>4.9</td>\n",
       "      <td>3.0</td>\n",
       "      <td>1.4</td>\n",
       "      <td>0.2</td>\n",
       "      <td>setosa</td>\n",
       "    </tr>\n",
       "    <tr>\n",
       "      <th>2</th>\n",
       "      <td>4.7</td>\n",
       "      <td>3.2</td>\n",
       "      <td>1.3</td>\n",
       "      <td>0.2</td>\n",
       "      <td>setosa</td>\n",
       "    </tr>\n",
       "    <tr>\n",
       "      <th>3</th>\n",
       "      <td>4.6</td>\n",
       "      <td>3.1</td>\n",
       "      <td>1.5</td>\n",
       "      <td>0.2</td>\n",
       "      <td>setosa</td>\n",
       "    </tr>\n",
       "    <tr>\n",
       "      <th>4</th>\n",
       "      <td>5.0</td>\n",
       "      <td>3.6</td>\n",
       "      <td>1.4</td>\n",
       "      <td>0.2</td>\n",
       "      <td>setosa</td>\n",
       "    </tr>\n",
       "  </tbody>\n",
       "</table>\n",
       "</div>"
      ]
     },
     "execution_count": 24,
     "metadata": {},
     "output_type": "execute_result"
    }
   ],
   "execution_count": 24
  },
  {
   "metadata": {},
   "cell_type": "markdown",
   "source": "#### Export to Excel",
   "id": "f811e815cf8ab2e9"
  },
  {
   "metadata": {
    "ExecuteTime": {
     "end_time": "2025-05-07T09:27:56.072287Z",
     "start_time": "2025-05-07T09:27:56.055786Z"
    }
   },
   "cell_type": "code",
   "source": [
    "# Create a DataFrame with sample data\n",
    "data = {\n",
    "    'Name': ['John', 'Jane', 'Mike'],\n",
    "    'Age': [25, 30, 35],\n",
    "    'City': ['New York', 'London', 'Sydney']\n",
    "}\n",
    "df = pd.DataFrame(data)\n",
    "\n",
    "# Export the DataFrame to an Excel file\n",
    "df.to_excel(\"./data/data.xlsx\", index=False)"
   ],
   "id": "ce8fa41e0605b6f0",
   "outputs": [],
   "execution_count": 25
  },
  {
   "metadata": {},
   "cell_type": "markdown",
   "source": "#### Create a workbook with openpyxl",
   "id": "c1702a7c727f852a"
  },
  {
   "metadata": {
    "ExecuteTime": {
     "end_time": "2025-05-07T09:27:56.134784Z",
     "start_time": "2025-05-07T09:27:56.121785Z"
    }
   },
   "cell_type": "code",
   "source": [
    "# Create a new workbook\n",
    "workbook = openpyxl.Workbook()\n",
    "# Add a new sheet\n",
    "workbook.create_sheet(title=\"Sheet2\")\n",
    "# Save the changes\n",
    "workbook.save(\"./data/example.xlsx\")"
   ],
   "id": "592b49e8bf7d4e17",
   "outputs": [],
   "execution_count": 26
  },
  {
   "metadata": {},
   "cell_type": "markdown",
   "source": "#### Delete a sheet",
   "id": "a1d7f0d162b967b"
  },
  {
   "metadata": {
    "ExecuteTime": {
     "end_time": "2025-05-07T09:27:56.187786Z",
     "start_time": "2025-05-07T09:27:56.169286Z"
    }
   },
   "cell_type": "code",
   "source": [
    "# Load the workbook\n",
    "workbook = openpyxl.load_workbook(\"./data/example.xlsx\")\n",
    "\n",
    "# Delete a sheet\n",
    "sheet_name = \"Sheet2\"\n",
    "sheet = workbook[sheet_name]\n",
    "workbook.remove(sheet)\n",
    "\n",
    "# Save the changes\n",
    "workbook.save(\"./data/example_removed.xlsx\")"
   ],
   "id": "d059ac9a74ef4f05",
   "outputs": [],
   "execution_count": 27
  },
  {
   "metadata": {},
   "cell_type": "markdown",
   "source": "#### Update a cell",
   "id": "15676ea831818ee5"
  },
  {
   "metadata": {
    "ExecuteTime": {
     "end_time": "2025-05-07T09:27:56.230283Z",
     "start_time": "2025-05-07T09:27:56.212285Z"
    }
   },
   "cell_type": "code",
   "source": [
    "# Load the workbook\n",
    "workbook = openpyxl.load_workbook(\"./data/example_removed.xlsx\")\n",
    "\n",
    "# Add a new sheet\n",
    "workbook.create_sheet(\"New Sheet\")\n",
    "\n",
    "# Select a sheet\n",
    "sheet_name = \"New Sheet\"\n",
    "sheet = workbook[sheet_name]\n",
    "\n",
    "# Update a cell value\n",
    "sheet[\"A1\"] = \"Hello, World!\"\n",
    "\n",
    "# Save the changes\n",
    "workbook.save(\"./data/example_updated.xlsx\")"
   ],
   "id": "be8f4168d9096f2",
   "outputs": [],
   "execution_count": 28
  },
  {
   "metadata": {
    "ExecuteTime": {
     "end_time": "2025-05-07T09:27:56.246285Z",
     "start_time": "2025-05-07T09:27:56.244285Z"
    }
   },
   "cell_type": "code",
   "source": "",
   "id": "108e8c67a43f123",
   "outputs": [],
   "execution_count": null
  }
 ],
 "metadata": {
  "kernelspec": {
   "display_name": "Python 3",
   "language": "python",
   "name": "python3"
  },
  "language_info": {
   "codemirror_mode": {
    "name": "ipython",
    "version": 2
   },
   "file_extension": ".py",
   "mimetype": "text/x-python",
   "name": "python",
   "nbconvert_exporter": "python",
   "pygments_lexer": "ipython2",
   "version": "2.7.6"
  }
 },
 "nbformat": 4,
 "nbformat_minor": 5
}
